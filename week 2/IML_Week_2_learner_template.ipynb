{
 "cells": [
  {
   "cell_type": "markdown",
   "metadata": {
    "id": "RztTuHNRd1-a"
   },
   "source": [
    "# WEEK2: Resampling Methods"
   ]
  },
  {
   "cell_type": "markdown",
   "metadata": {
    "id": "G4ZhCI5PJtrO"
   },
   "source": [
    "# Objective"
   ]
  },
  {
   "cell_type": "markdown",
   "metadata": {
    "id": "3a2z43jfJwUY"
   },
   "source": [
    "This homework sheet will help reviewing the basic concepts associated with model selection and regularization. Please review the lectures, suggested readings, and additional resources _before_ getting started on the HW."
   ]
  },
  {
   "cell_type": "markdown",
   "metadata": {
    "id": "iwhWEDxUeICJ"
   },
   "source": [
    "**Some questions in this assignment will require you to conduct independent research beyond the material covered in the recorded content.**"
   ]
  },
  {
   "cell_type": "markdown",
   "metadata": {
    "id": "UrLG-psXJ7Rw"
   },
   "source": [
    "**Questions**\n",
    "\n",
    " This homework is divided into two main parts. First, a conceptual component will review the basic concepts related to resampling. The second part of the homework is mostly intended to be a brief introduction to regularization methods and resampling in python . Several of these questions are modified from James et al. (2021)."
   ]
  },
  {
   "cell_type": "markdown",
   "metadata": {
    "id": "PmqLj5qMeQdT"
   },
   "source": [
    "Marks Distribution"
   ]
  },
  {
   "cell_type": "markdown",
   "metadata": {
    "id": "TyEe9srieW8r"
   },
   "source": [
    "| Question      | Marks |\n",
    "| ----------- | ----------- |\n",
    "| Q1a    | 1     |\n",
    "| Q1b    | 0.50      |\n",
    "| Q1c   | 1      |\n",
    "| Q1d     | 0.50      |\n",
    "| Q1e     | 0.50     |\n",
    "| Q1f    | 0.50    |\n",
    "| Q2a    | 1     |\n",
    "| Q2b    | 1      |\n",
    "| Q2c   | 1      |\n",
    "| Q2d     | 1      |\n",
    "| Q3a   | 1    |\n",
    "| Q3b     | 1      |\n",
    "| Q4     | 1      |\n",
    "| Q5a    | 1    |\n",
    "| Q5b    | 1     |\n",
    "| Q5c   | 1     |\n",
    "| Q5d     | 1      |"
   ]
  },
  {
   "cell_type": "markdown",
   "metadata": {
    "id": "HSAHcEeQJ9Fs"
   },
   "source": [
    "# Conceptual"
   ]
  },
  {
   "cell_type": "markdown",
   "metadata": {
    "id": "dhRS_zVwKM8m"
   },
   "source": [
    "##  Q1. We will derive the probability that a given observation is part of a bootstrap sample. Suppose that we obtain a bootstrap sample from a set of `n` observations. **Please note that samples are obtained with replacement**."
   ]
  },
  {
   "cell_type": "markdown",
   "metadata": {
    "id": "7gy8fX2tpS79"
   },
   "source": [
    "### a) What is the probability that the first bootstrap observation is not the $jth$ observation from the original sample? Justify your answer."
   ]
  },
  {
   "cell_type": "markdown",
   "metadata": {
    "id": "V2wd-2DJuYJX"
   },
   "source": [
    "**Probability of Not Being Selected:** \n",
    "\n",
    "In each draw (with replacement), any observation has an equal chance $(1/n)$ of not being selected.\n",
    "\n",
    "\n",
    "**Multiple Draws:** \n",
    "\n",
    "To be excluded from the entire bootstrap sample when we are allowing replacement, an observation needs to be not selected in all n draws.\n",
    "\n",
    "**Probability of Exclusion:**\n",
    "\n",
    "The probability of an observation being excluded from the bootstrap sample is the product of the probability of not being selected in each individual draw. Therefore, the probability of exclusion is $(1 - 1/n)^n$.\n",
    "\n",
    "**Complementary Probability:** \n",
    "\n",
    "The probability (P) of a given observation being included in the bootstrap sample is the complement of the probability of exclusion.\n",
    "\n",
    "Therefore, the probability (P) of a given observation being part of a bootstrap sample is:\n",
    "\n",
    "\n",
    "P = 1 - $(1 - 1/n)^n$\n",
    "\n",
    "\n"
   ]
  },
  {
   "cell_type": "markdown",
   "metadata": {
    "id": "ekeUZKAaufvk"
   },
   "source": [
    "### b) What is the probability that the second bootstrap observation is not the $jth$ observation from the original sample?\n",
    "\n"
   ]
  },
  {
   "cell_type": "markdown",
   "metadata": {
    "id": "N-j_koZDrvhz"
   },
   "source": [
    "he probability that the second bootstrap observation is not the jth observation from the original sample is also $1 - 1/n$, where n is the number of observations in the original sample.we need to consider that each observation has an equal probability of being selected in each draw of the bootstrap sample. Since samples are obtained with replacement.\n"
   ]
  },
  {
   "cell_type": "markdown",
   "metadata": {
    "id": "w7XSUDdGulBi"
   },
   "source": [
    "###  c) Argue that the probability that the $jth$ observation is not in the bootstrap sample is $(1 − 1/n)^n$."
   ]
  },
  {
   "cell_type": "markdown",
   "metadata": {
    "id": "oVkgOBX_tDDq"
   },
   "source": [
    "**Independence of Draws:** \n",
    "\n",
    "In bootstrap sampling, each observation is selected independently with replacement. Therefore, the probability of not selecting the `jth` observation in one draw is $1-(1/n)$.\n",
    "\n",
    "**Repeated Draws:** \n",
    "\n",
    "Since there are n observations and each observation is selected independently with replacement, the probability of not selecting the jth observation in any of the n draws is $(1-1/n)^n$.\n",
    "\n",
    "**Combination of Events:**\n",
    "\n",
    "The event of not selecting the jth observation in each draw can be seen as a sequence of n independent events, `each` with a probability of $1-(1/n)$.\n",
    "therefore for n events it would be $(1-1/n)^n$."
   ]
  },
  {
   "cell_type": "markdown",
   "metadata": {
    "id": "dc370xrFupXo"
   },
   "source": [
    "###  d) When `n = 5`, what is the probability that the $jth$ observation is in the bootstrap sample?"
   ]
  },
  {
   "cell_type": "code",
   "execution_count": 1,
   "metadata": {},
   "outputs": [],
   "source": [
    "# Writing general purpose code to calculate the probability \n",
    "\n",
    "def calculate_probability(n):\n",
    "    return 1-(1-(1/n))**n"
   ]
  },
  {
   "cell_type": "code",
   "execution_count": 2,
   "metadata": {
    "id": "J5juavMztOI7"
   },
   "outputs": [
    {
     "data": {
      "text/plain": [
       "0.6723199999999999"
      ]
     },
     "execution_count": 2,
     "metadata": {},
     "output_type": "execute_result"
    }
   ],
   "source": [
    "calculate_probability(5)"
   ]
  },
  {
   "cell_type": "markdown",
   "metadata": {},
   "source": [
    "Probability is 0.6723199999999999 or 67.232%"
   ]
  },
  {
   "cell_type": "markdown",
   "metadata": {
    "id": "hgp34gdCkzRb"
   },
   "source": [
    "### e) When `n = 100`, what is the probability that the $jth$ observation is in the bootstrap sample?"
   ]
  },
  {
   "cell_type": "code",
   "execution_count": 3,
   "metadata": {},
   "outputs": [
    {
     "data": {
      "text/plain": [
       "0.6339676587267709"
      ]
     },
     "execution_count": 3,
     "metadata": {},
     "output_type": "execute_result"
    }
   ],
   "source": [
    "calculate_probability(100)"
   ]
  },
  {
   "cell_type": "markdown",
   "metadata": {},
   "source": [
    "Probability would be  0.6339676587267709 or 63.397%"
   ]
  },
  {
   "cell_type": "markdown",
   "metadata": {
    "id": "Fml00xhEr1t-"
   },
   "source": [
    "### f) When `n = 1000`, what is the probability that the $jth$ observation is in the bootstrap sample?\n"
   ]
  },
  {
   "cell_type": "code",
   "execution_count": 4,
   "metadata": {},
   "outputs": [
    {
     "data": {
      "text/plain": [
       "0.6323045752290363"
      ]
     },
     "execution_count": 4,
     "metadata": {},
     "output_type": "execute_result"
    }
   ],
   "source": [
    "calculate_probability(1000)"
   ]
  },
  {
   "cell_type": "markdown",
   "metadata": {
    "id": "9Jtododpr8GH"
   },
   "source": [
    "Probability would be  0.63230457 or 63.230457%\n"
   ]
  },
  {
   "cell_type": "markdown",
   "metadata": {
    "id": "xnw4bPR4uQgy"
   },
   "source": [
    "## Q2)\n",
    "The following questions are relative to k-fold cross-validation."
   ]
  },
  {
   "cell_type": "markdown",
   "metadata": {
    "id": "L_KugOLmuuH7"
   },
   "source": [
    "### a) Explain how k-fold cross-validation is implemented.\n"
   ]
  },
  {
   "cell_type": "markdown",
   "metadata": {
    "id": "hA1M81a-uAQV"
   },
   "source": [
    "In k-fold cross-validation, the dataset is divided into k equal-sized subsets, also known as folds. The cross-validation process is then repeated k times. In each iteration:\n",
    "\n",
    "1. One of the k subsets is held out as the validation set.\n",
    "2. The model is trained on the remaining  k - 1 subsets, which are used as the training set.\n",
    "3. The performance of the model is evaluated on the validation set, typically using a performance metric such as accuracy, mean squared error, or area under the curve.\n",
    "4. Steps 1-3 are repeated  k times, with each of the k subsets used exactly once as the validation set.\n",
    "5. The final performance metric is typically computed as the average of the performance metrics obtained in each iteration.\n",
    "\n",
    "This process allows us to assess how well the model generalizes to new data and helps to detect issues such as over-fitting or under-fitting. By repeating the process k times and averaging the results, we obtain a more robust estimate of the model's performance compared to a single train-test split. Additionally, each data point is used for validation exactly once, which helps in maximizing the use of available data for both training and validation."
   ]
  },
  {
   "cell_type": "markdown",
   "metadata": {
    "id": "0mWYYql2uVOV"
   },
   "source": [
    "### b) How would you choose the analyzed k? Does that matter?"
   ]
  },
  {
   "cell_type": "markdown",
   "metadata": {
    "id": "h92wGq8qxRaK"
   },
   "source": [
    "The choice of ( k ) in ( k )-fold cross-validation is crucial and can have an impact on the performance estimation and computational complexity of the process. Here are some considerations for choosing the value of ( k ):\n",
    "\n",
    "1. **Size of the Dataset**: If the dataset is relatively small, using a larger value of ( k ) might lead to more stable and reliable performance estimates. However, larger values of ( k ) will also result in higher computational overhead.\n",
    "\n",
    "2. **Computational Resources**: As the value of ( k ) increases, the computational cost of cross-validation also increases proportionally. Therefore, it's important to consider the available computational resources when choosing the value of ( k ).\n",
    "\n",
    "3. **Trade-off between Bias and Variance**: Lower values of ( k ) (e.g., ( k = 5 ) or ( k = 10 )) tend to have higher bias but lower variance in the estimated performance metrics. Conversely, higher values of ( k ) (e.g., ( k = 100 )) tend to have lower bias but higher variance. The choice depends on whether bias or variance is more critical for the specific application.\n",
    "\n",
    "4. **Cross-Validation Stability**: It's important to ensure that the performance estimates obtained from cross-validation are stable and not overly sensitive to the choice of ( k ). \n",
    "\n",
    "5. **Computational Efficiency**: For very large datasets, using a smaller value of ( k ) may be more practical due to computational constraints.\n",
    "\n",
    "In practice, common choices for ( k ) include ( k = 5 ), ( k = 10 ), and ( k = 20 ). However, the optimal choice may vary depending on the specific characteristics of the dataset and the objectives of the analysis. It's often recommended to perform experiments with different values of ( k ) and evaluate the performance to determine the most suitable value for a particular application."
   ]
  },
  {
   "cell_type": "markdown",
   "metadata": {
    "id": "7_mY8zwiyr0a"
   },
   "source": [
    "### c) What are the advantages and disadvantages of k-fold cross-validation relative to: *The validation set* approach?\n"
   ]
  },
  {
   "cell_type": "markdown",
   "metadata": {
    "id": "9hQ1d-2fxsCB"
   },
   "source": [
    "**Advantages of k-fold cross-validation relative to the validation set approach:**\n",
    "\n",
    "1. **Better Utilization of Data**: In k-fold cross-validation, each data point is used for both training and validation exactly once, leading to better utilization of the available data compared to the validation set approach where a fixed portion of data is reserved for validation.\n",
    "\n",
    "2. **More Reliable Performance Estimation**: k-fold cross-validation provides a more reliable estimate of model performance by averaging the results from multiple iterations, reducing the variability in performance estimates compared to a single validation set.\n",
    "\n",
    "3. **Reduced Variance in Performance Estimate**: By averaging performance metrics across multiple folds, k-fold cross-validation tends to produce performance estimates with lower variance compared to the validation set approach, especially when the dataset is relatively small.\n",
    "\n",
    "4. **Less Sensitivity to Data Split**: The performance estimate obtained through k-fold cross-validation is less sensitive to the particular random split of data compared to the validation set approach, which can be influenced by the choice of which observations are included in the validation set.\n",
    "\n",
    "**Disadvantages of k-fold cross-validation relative to the validation set approach:**\n",
    "\n",
    "1. **Higher Computational Cost**: k-fold cross-validation requires training and evaluating the model multiple times, leading to higher computational cost compared to the validation set approach, especially when the dataset or model is large.\n",
    "\n",
    "2. **Slower Model Evaluation**: Due to the repetitive nature of training and evaluation in k-fold cross-validation, the process can be slower compared to the validation set approach, which involves training the model only once.\n",
    "\n",
    "3. **Potential Overfitting**: In k-fold cross-validation, the model may be trained multiple times on different subsets of data, increasing the risk of overfitting compared to the validation set approach, where the model is trained only once on a larger portion of the data.\n",
    "\n",
    "4. **Complexity in Implementation**: Implementing k-fold cross-validation requires additional code to partition the data, train the model, and aggregate the performance metrics across folds, adding complexity compared to the simpler validation set approach.\n",
    "\n",
    "Overall, while k-fold cross-validation provides more reliable performance estimates and better data utilization, it comes with higher computational cost and complexity in implementation compared to the validation set approach. The choice between the two methods depends on factors such as dataset size, computational resources, and the desired level of performance estimation reliability."
   ]
  },
  {
   "cell_type": "markdown",
   "metadata": {
    "id": "VS2s6Jz23i5d"
   },
   "source": [
    "### d)  What are the advantages and disadvantages of k-fold cross-validation relative to: *LOOCV*?"
   ]
  },
  {
   "cell_type": "markdown",
   "metadata": {
    "id": "FGYQZ87y729n"
   },
   "source": [
    "**Advantages of k-fold cross-validation relative to Leave-One-Out Cross-Validation (LOOCV):**\n",
    "\n",
    "1. **Computational Efficiency**: k-fold cross-validation is computationally more efficient compared to LOOCV, especially for large datasets, as it involves partitioning the data into k folds and repeating the training process k times, whereas LOOCV trains the model n times, where n is the number of observations.\n",
    "\n",
    "2. **Less Bias**: k-fold cross-validation tends to have lower bias compared to LOOCV, especially in cases where the dataset is small, as it averages the results over multiple iterations, whereas LOOCV can be biased due to the reliance on a single omitted observation in each iteration.\n",
    "\n",
    "3. **Robustness to Outliers**: k-fold cross-validation is less sensitive to outliers compared to LOOCV since outliers have a smaller impact on the average performance estimate across k folds compared to LOOCV, where each observation is treated as a separate validation set.\n",
    "\n",
    "4. **Consistent Performance Estimate**: k-fold cross-validation provides a more consistent performance estimate across different runs compared to LOOCV, as the variability in the performance estimate is reduced by averaging results over multiple folds.\n",
    "\n",
    "**Disadvantages of k-fold cross-validation relative to LOOCV:**\n",
    "\n",
    "1. **Higher Variance**: k-fold cross-validation tends to have higher variance in the performance estimate compared to LOOCV, especially when the dataset is small, as it relies on a random partitioning of the data into folds, which may lead to variability in the estimated performance metrics.\n",
    "\n",
    "2. **Less Precision**: Due to the smaller training sets in each fold, k-fold cross-validation may result in less precise estimates of the model's performance compared to LOOCV, where each model is trained on almost the entire dataset except for one observation.\n",
    "\n",
    "3. **Potential Overfitting**: In some cases, k-fold cross-validation may be more prone to overfitting compared to LOOCV, especially when the dataset is small and the model is complex, as the model is trained multiple times on different subsets of data, increasing the risk of overfitting.\n",
    "\n",
    "4. **Less Sensitivity to Model Variance**: LOOCV is more sensitive to variance in the model's performance estimate compared to k-fold cross-validation, as it evaluates the model's performance on each individual observation separately, making it more susceptible to noise and model variance.\n",
    "\n",
    "Overall, the choice between k-fold cross-validation and LOOCV depends on factors such as dataset size, computational resources, and the desired balance between bias and variance in the performance estimate. While k-fold cross-validation offers computational efficiency and reduced bias, LOOCV provides lower variance and potentially more precise performance estimates, especially for small datasets."
   ]
  },
  {
   "cell_type": "markdown",
   "metadata": {
    "id": "5HVFDHDqS5dT"
   },
   "source": [
    "# Applied"
   ]
  },
  {
   "cell_type": "markdown",
   "metadata": {
    "id": "vZxb-dffwoc7"
   },
   "source": [
    "We have to use college dataset to answer the questions given in the notebook"
   ]
  },
  {
   "cell_type": "markdown",
   "metadata": {
    "id": "08u7KItt3nTz"
   },
   "source": [
    "## Q3)"
   ]
  },
  {
   "cell_type": "markdown",
   "metadata": {
    "id": "QPXoXSVpNE5c"
   },
   "source": [
    "### a) What is the following code supposed to do?"
   ]
  },
  {
   "cell_type": "code",
   "execution_count": 5,
   "metadata": {
    "id": "pv3RUA5OrUqK"
   },
   "outputs": [],
   "source": [
    "import numpy as np\n",
    "import pandas as pd\n",
    "from sklearn.linear_model import LinearRegression\n",
    "from sklearn.preprocessing import PolynomialFeatures\n",
    "from sklearn.model_selection import KFold\n",
    "import matplotlib.pyplot as plt\n",
    "\n",
    "# Define constants\n",
    "N = 100\n",
    "ORDER = 2\n",
    "N_FOLDS = 20\n",
    "POLY_DEGREE = np.arange(1, 11)\n",
    "N_REPLICATES = 10\n",
    "\n",
    "# Set random seed for reproducibility\n",
    "np.random.seed(123)\n",
    "\n",
    "# Generate simulated data\n",
    "x = np.random.uniform(low=-4, high=4, size=N)\n",
    "y = np.random.normal(loc=x**ORDER, scale=0.25, size=N)\n",
    "data = pd.DataFrame({'x': x, 'y': y})\n",
    "\n",
    "# Run multiple replicates and average the MSE estimates\n",
    "mse_estimates = np.zeros((N_REPLICATES, len(POLY_DEGREE)))\n",
    "for r in range(N_REPLICATES):\n",
    "    kf = KFold(n_splits=N_FOLDS, shuffle=True)\n",
    "    indices = [(train_index, test_index) for train_index, test_index in kf.split(data)]\n",
    "    for q_idx, q in enumerate(POLY_DEGREE):\n",
    "        y_hat = np.zeros(N)\n",
    "        for train_index, test_index in indices:\n",
    "            # Fit on K-1 folds\n",
    "            x_train, y_train = data.iloc[train_index]['x'], data.iloc[train_index]['y']\n",
    "            x_train = np.array(x_train).reshape(-1, 1)  # Convert to NumPy array and reshape\n",
    "            poly = PolynomialFeatures(degree=q)\n",
    "            x_train_poly = poly.fit_transform(x_train)\n",
    "            lin_reg = LinearRegression()\n",
    "            lin_reg.fit(x_train_poly, y_train)\n",
    "\n",
    "            # Predict on the kth fold\n",
    "            x_test = np.array(data.iloc[test_index]['x']).reshape(-1, 1)  # Convert to NumPy array and reshape\n",
    "            x_test_poly = poly.fit_transform(x_test)\n",
    "            y_hat[test_index] = lin_reg.predict(x_test_poly)\n",
    "\n",
    "        # Get the MSE estimate\n",
    "        mse_estimate = np.mean((y_hat - data['y'])**2)\n",
    "        mse_estimates[r, q_idx] = mse_estimate\n",
    "\n",
    "# Average the MSE estimates across replicates\n",
    "mse_mean = np.mean(mse_estimates, axis=0)\n",
    "mse_std = np.std(mse_estimates, axis=0)\n"
   ]
  },
  {
   "cell_type": "markdown",
   "metadata": {
    "id": "DoI7d3EYj6L2"
   },
   "source": [
    "### Note: The code given wasn't working as to reshape we need to have the np array to reshape, it's been fixed now.\n",
    "1. Simulated data: Generates synthetic data points (`x` and `y`) using NumPy's random functions. The `y` values are generated based on a polynomial relationship with the `x` values, with added noise.\n",
    "\n",
    "2. K-fold cross-validation: Utilizes scikit-learn's `KFold` class to split the data into `N_FOLDS` folds for cross-validation.\n",
    "\n",
    "3. Polynomial regression: Fits polynomial regression models of varying degrees (`POLY_DEGREE`) to the data using linear regression from scikit-learn.\n",
    "\n",
    "4. Model evaluation: Evaluates the performance of each polynomial regression model using mean squared error (MSE).\n",
    "\n",
    "5. Replicates: The process is repeated multiple times (`N_REPLICATES`) to obtain more robust estimates of the MSE for each polynomial degree.\n",
    "\n",
    "6. Analysis: Computes the mean and standard deviation of the MSE estimates across replicates for each polynomial degree.\n",
    "\n",
    "Overall, the code performs k-fold cross-validation to assess the performance of polynomial regression models of different degrees on simulated data, providing insights into the model's ability to capture the underlying relationship between the features (`x`) and the target (`y`)."
   ]
  },
  {
   "cell_type": "markdown",
   "metadata": {
    "id": "aOwxNWf_NcOO"
   },
   "source": [
    " ### b) To the best of your knowledge, improve the structure, content, clarity, and reproducibility of the code presented before in \"part a\" of this question (e.g. would you run a single or multiple replicates?). Fix any mistakes (if you find any). Finally, generate at least two plots summarizing your findings regarding the best-fitting polynomial order on the simulated dataset (also from \"part a\"): (1) MSE vs polynomial order, and (2) x vs y, along with a plot of the selected model."
   ]
  },
  {
   "cell_type": "code",
   "execution_count": 6,
   "metadata": {
    "id": "lv3xMCqlqqaC"
   },
   "outputs": [
    {
     "data": {
      "image/png": "[encoded data removed]",
      "text/plain": [
       "<Figure size 640x480 with 1 Axes>"
      ]
     },
     "metadata": {},
     "output_type": "display_data"
    },
    {
     "data": {
      "image/png": "[encoded data removed]",
      "text/plain": [
       "<Figure size 640x480 with 1 Axes>"
      ]
     },
     "metadata": {},
     "output_type": "display_data"
    }
   ],
   "source": [
    "# BEGIN SOLUTION\n",
    "import numpy as np\n",
    "import pandas as pd\n",
    "from sklearn.linear_model import LinearRegression\n",
    "from sklearn.preprocessing import PolynomialFeatures\n",
    "from sklearn.model_selection import KFold\n",
    "import matplotlib.pyplot as plt\n",
    "\n",
    "def generate_data(n, order=2):\n",
    "    np.random.seed(123)\n",
    "    x = np.random.uniform(low=-4, high=4, size=n)\n",
    "    y = np.random.normal(loc=x**order, scale=0.25, size=n)\n",
    "    return pd.DataFrame({'x': x, 'y': y})\n",
    "\n",
    "def run_cross_validation(data, poly_degrees, n_folds=5):\n",
    "    mse_estimates = []\n",
    "    for degree in poly_degrees:\n",
    "        mse_degree = []\n",
    "        kf = KFold(n_splits=n_folds, shuffle=True)\n",
    "        for train_index, test_index in kf.split(data):\n",
    "            x_train, x_test = data.iloc[train_index]['x'], data.iloc[test_index]['x']\n",
    "            y_train, y_test = data.iloc[train_index]['y'], data.iloc[test_index]['y']\n",
    "            mse = fit_and_evaluate_model(x_train, y_train, x_test, y_test, degree)\n",
    "            mse_degree.append(mse)\n",
    "        mse_estimates.append(np.mean(mse_degree))\n",
    "    return mse_estimates\n",
    "\n",
    "def fit_and_evaluate_model(x_train, y_train, x_test, y_test, degree):\n",
    "    poly = PolynomialFeatures(degree=degree)\n",
    "    x_train_poly = poly.fit_transform(x_train.values.reshape(-1, 1))\n",
    "    x_test_poly = poly.transform(x_test.values.reshape(-1, 1))\n",
    "    lin_reg = LinearRegression()\n",
    "    lin_reg.fit(x_train_poly, y_train)\n",
    "    y_pred = lin_reg.predict(x_test_poly)\n",
    "    mse = np.mean((y_pred - y_test)**2)\n",
    "    return mse\n",
    "\n",
    "def plot_mse_vs_degree(poly_degrees, mse_estimates):\n",
    "    plt.plot(poly_degrees, mse_estimates, marker='o')\n",
    "    plt.xlabel('Polynomial Degree')\n",
    "    plt.ylabel('Mean Squared Error')\n",
    "    plt.title('MSE vs Polynomial Order')\n",
    "    plt.grid(True)\n",
    "    plt.show()\n",
    "\n",
    "def plot_data_and_model(x, y, x_sorted, y_pred_sorted, degree):\n",
    "    plt.scatter(x, y, label='Data')\n",
    "    plt.xlabel('x')\n",
    "    plt.ylabel('y')\n",
    "    plt.title('x vs y with Selected Model')\n",
    "    plt.plot(x_sorted, y_pred_sorted, color='red', label=f'Polynomial Degree {degree} Model')\n",
    "    plt.legend()\n",
    "    plt.grid(True)\n",
    "    plt.show()\n",
    "\n",
    "# Define constants\n",
    "N = 100  # Number of observations\n",
    "POLY_DEGREE = np.arange(1, 11)  # Polynomial degrees to test\n",
    "\n",
    "# Generate simulated data\n",
    "data = generate_data(N)\n",
    "\n",
    "# Run cross-validation\n",
    "mse_estimates = run_cross_validation(data, POLY_DEGREE)\n",
    "\n",
    "# Plot MSE vs polynomial degree\n",
    "plot_mse_vs_degree(POLY_DEGREE, mse_estimates)\n",
    "\n",
    "# Fit the model with the best polynomial degree\n",
    "best_degree = POLY_DEGREE[np.argmin(mse_estimates)]\n",
    "x = data['x']\n",
    "y = data['y']\n",
    "x_sorted = np.sort(x)\n",
    "poly = PolynomialFeatures(degree=best_degree)\n",
    "x_poly = poly.fit_transform(x.values.reshape(-1, 1))\n",
    "lin_reg = LinearRegression()\n",
    "lin_reg.fit(x_poly, y)\n",
    "y_pred_sorted = lin_reg.predict(poly.transform(x_sorted.reshape(-1, 1)))\n",
    "\n",
    "# Plot x vs y and the selected model\n",
    "plot_data_and_model(x, y, x_sorted, y_pred_sorted, best_degree)\n",
    "\n",
    "# END SOLUTION"
   ]
  },
  {
   "cell_type": "markdown",
   "metadata": {
    "id": "aMNw-qL6mKEH"
   },
   "source": [
    "## Q4) Bootstrap the following dataset (`n = 1000`) to obtain median and 95% CI (Confidence interval)for parameter estimates (slope and intercept) summarizing the relationship between `x` and `y_measured.` What happens with median parameter estimates when you examine `y` instead?"
   ]
  },
  {
   "cell_type": "code",
   "execution_count": 7,
   "metadata": {
    "id": "DJ11XwVw1qrm"
   },
   "outputs": [
    {
     "name": "stdout",
     "output_type": "stream",
     "text": [
      "Bootstrap results for y_measured:\n",
      "Slope: Median = 1.255525759029754 95% CI = 0.8163908486871553 - 1.664286256290293\n",
      "Intercept: Median = -1.907593872789863 95% CI = -2.109979303915565 - -1.7080947643912416\n",
      "\n",
      "Bootstrap results for y:\n",
      "Slope: Median = 1.1914860815539305 95% CI = 0.7819823800716428 - 1.639859324463686\n",
      "Intercept: Median = -1.9313505661860504 95% CI = -2.119815802464903 - -1.7594567019849474\n"
     ]
    }
   ],
   "source": [
    "import numpy as np\n",
    "from numpy.random import default_rng\n",
    "import scipy.stats as stats\n",
    "\n",
    "# Set seed for reproducibility\n",
    "np.random.seed(1)\n",
    "\n",
    "# Define the data\n",
    "rng = default_rng(seed=1)\n",
    "nobs = 1000\n",
    "x = rng.normal(size=nobs)\n",
    "y = x - 2 * x**2\n",
    "y_measured = y + rng.normal(size=nobs)\n",
    "\n",
    "def linear_regression(data):\n",
    "    x, y = data[:, 0], data[:, 1]\n",
    "    slope, intercept, _, _, _ = stats.linregress(x, y)\n",
    "    return slope, intercept\n",
    "\n",
    "def bootstrap(data, func, n_bootstrap=1000, ci_level=0.95):\n",
    "    parameter_estimates = []\n",
    "    n = len(data)\n",
    "    for _ in range(n_bootstrap):\n",
    "        resampled_indices = np.random.choice(range(n), size=n, replace=True)\n",
    "        resampled_data = data[resampled_indices]\n",
    "        parameter_estimates.append(func(resampled_data))\n",
    "    parameter_estimates = np.array(parameter_estimates)\n",
    "    median = np.median(parameter_estimates, axis=0)\n",
    "    ci_lower = np.percentile(parameter_estimates, (1 - ci_level) / 2 * 100, axis=0)\n",
    "    ci_upper = np.percentile(parameter_estimates, (1 + ci_level) / 2 * 100, axis=0)\n",
    "    return median, ci_lower, ci_upper\n",
    "\n",
    "# Bootstrap for y_measured\n",
    "median_y_measured, ci_lower_y_measured, ci_upper_y_measured = bootstrap(\n",
    "    np.column_stack((x, y_measured)), linear_regression)\n",
    "\n",
    "# Bootstrap for y\n",
    "median_y, ci_lower_y, ci_upper_y = bootstrap(\n",
    "    np.column_stack((x, y)), linear_regression)\n",
    "\n",
    "print(\"Bootstrap results for y_measured:\")\n",
    "print(\"Slope: Median =\", median_y_measured[0], \"95% CI =\", ci_lower_y_measured[0], \"-\", ci_upper_y_measured[0])\n",
    "print(\"Intercept: Median =\", median_y_measured[1], \"95% CI =\", ci_lower_y_measured[1], \"-\", ci_upper_y_measured[1])\n",
    "\n",
    "print(\"\\nBootstrap results for y:\")\n",
    "print(\"Slope: Median =\", median_y[0], \"95% CI =\", ci_lower_y[0], \"-\", ci_upper_y[0])\n",
    "print(\"Intercept: Median =\", median_y[1], \"95% CI =\", ci_lower_y[1], \"-\", ci_upper_y[1])\n"
   ]
  },
  {
   "cell_type": "markdown",
   "metadata": {
    "id": "_skayhIR2F7g"
   },
   "source": [
    "Provide your answer in this Markdown cell"
   ]
  },
  {
   "cell_type": "markdown",
   "metadata": {
    "id": "ddHcOis8CCoO"
   },
   "source": [
    "## Q5) We will predict the number of applications received using the other variables in the **College dataset.** Please load the relevant dataset first.\n"
   ]
  },
  {
   "cell_type": "markdown",
   "metadata": {
    "id": "musNGH4-p4lf"
   },
   "source": [
    "**Importing Libraries:**"
   ]
  },
  {
   "cell_type": "code",
   "execution_count": 8,
   "metadata": {
    "id": "zGevrqL04Lse"
   },
   "outputs": [],
   "source": [
    "#IMPORT LIBRARIES\n",
    "import numpy as np\n",
    "import pandas as pd\n",
    "import matplotlib.pyplot as plt\n",
    "from sklearn.linear_model import LinearRegression\n",
    "from sklearn.preprocessing import PolynomialFeatures\n",
    "from sklearn.model_selection import train_test_split\n",
    "from sklearn.metrics import mean_squared_error\n",
    "from sklearn.preprocessing import LabelEncoder"
   ]
  },
  {
   "cell_type": "markdown",
   "metadata": {
    "id": "hKnFyjcjpxm6"
   },
   "source": [
    "**Loading dataset:**"
   ]
  },
  {
   "cell_type": "code",
   "execution_count": 9,
   "metadata": {
    "id": "6-sWON49nV7D"
   },
   "outputs": [],
   "source": [
    "#READ college.csv DATASET\n",
    "df = pd.read_csv('college.csv')\n",
    "\n"
   ]
  },
  {
   "cell_type": "code",
   "execution_count": 10,
   "metadata": {
    "id": "tcRA2D78fLxO"
   },
   "outputs": [],
   "source": [
    "le = LabelEncoder()\n",
    "\n",
    "df['private_encoded'] = le.fit_transform(df['private'])\n",
    "X = df.drop(columns=['private'])\n",
    "y = df['private_encoded'] "
   ]
  },
  {
   "cell_type": "markdown",
   "metadata": {
    "id": "jbzD19JRCPcq"
   },
   "source": [
    "### a) Split the data set into a training set and a test set."
   ]
  },
  {
   "cell_type": "code",
   "execution_count": 11,
   "metadata": {
    "id": "z2VPQlRTEFSx"
   },
   "outputs": [
    {
     "name": "stdout",
     "output_type": "stream",
     "text": [
      "Training set shape: (621, 18) (621,)\n",
      "Test set shape: (156, 18) (156,)\n"
     ]
    }
   ],
   "source": [
    "# BEGIN SOLUTION\n",
    "X_train, X_test, y_train, y_test = train_test_split(X, y, test_size=0.2, random_state=42)\n",
    "print(\"Training set shape:\", X_train.shape, y_train.shape)\n",
    "print(\"Test set shape:\", X_test.shape, y_test.shape)\n",
    "# END SOLUTION"
   ]
  },
  {
   "cell_type": "markdown",
   "metadata": {
    "id": "edftCrWqf5uC"
   },
   "source": [
    "### b) Fit a linear model using least squares on the training set, and report the test error obtained.\n",
    "Link to linear model: https://scikit-learn.org/stable/modules/generated/sklearn.linear_model.LinearRegression.html\n"
   ]
  },
  {
   "cell_type": "code",
   "execution_count": 12,
   "metadata": {
    "id": "3Bob99XBf2p7"
   },
   "outputs": [
    {
     "name": "stdout",
     "output_type": "stream",
     "text": [
      "Test Error (Mean Squared Error): 3.852908775340713e-29\n"
     ]
    }
   ],
   "source": [
    "#BEGIN SOLUTION\n",
    "# Initialize the linear regression model\n",
    "linear_model = LinearRegression()\n",
    "\n",
    "# Fit the model on the training set\n",
    "linear_model.fit(X_train, y_train)\n",
    "\n",
    "# Predict on the test set\n",
    "y_pred = linear_model.predict(X_test)\n",
    "\n",
    "# Calculate the mean squared error (test error)\n",
    "test_error = mean_squared_error(y_test, y_pred)\n",
    "\n",
    "# Report the test error\n",
    "print(\"Test Error (Mean Squared Error):\", test_error)\n",
    "# END SOLUTION"
   ]
  },
  {
   "cell_type": "markdown",
   "metadata": {
    "id": "pdea7OyMhAw6"
   },
   "source": [
    "### c) Fit a ridge regression model on the training set, with $\\lambda$ chosen by cross-validation. Report the test error obtained.\n",
    "\n",
    "Link to ridge regresion : https://scikit-learn.org/stable/modules/generated/sklearn.linear_model.Ridge.html"
   ]
  },
  {
   "cell_type": "code",
   "execution_count": 13,
   "metadata": {
    "id": "_tl5cegudy_Q"
   },
   "outputs": [
    {
     "name": "stdout",
     "output_type": "stream",
     "text": [
      "Test Error (Mean Squared Error): 4.2119896676568384e-07\n"
     ]
    }
   ],
   "source": [
    "#BEGIN SOLUTION\n",
    "from sklearn.linear_model import RidgeCV\n",
    "from sklearn.metrics import mean_squared_error\n",
    "\n",
    "ridge_model = RidgeCV(alphas=[0.1, 1.0, 10.0], cv=5)\n",
    "ridge_model.fit(X_train, y_train)\n",
    "\n",
    "y_pred = ridge_model.predict(X_test)\n",
    "\n",
    "test_error = mean_squared_error(y_test, y_pred)\n",
    "print(\"Test Error (Mean Squared Error):\", test_error)\n",
    "# END SOLUTION"
   ]
  },
  {
   "cell_type": "markdown",
   "metadata": {
    "id": "Q-Y4EBqihWnB"
   },
   "source": [
    "### d) Fit a lasso model on the training set, with $\\lambda$ chosen by cross-validation. Report the test error obtained, along with the number of non-zero coefficient estimates.\n",
    " Link to lasso :https://scikit-learn.org/0.15/modules/generated/sklearn.linear_model.Lasso.html"
   ]
  },
  {
   "cell_type": "code",
   "execution_count": 14,
   "metadata": {
    "id": "FA-uxEgIgOwL"
   },
   "outputs": [
    {
     "name": "stdout",
     "output_type": "stream",
     "text": [
      "Test Error (Mean Squared Error): 0.08233922956158084\n",
      "Number of non-zero coefficient estimates: 16\n"
     ]
    }
   ],
   "source": [
    "#BEGIN SOLUTION\n",
    "from sklearn.linear_model import LassoCV\n",
    "\n",
    "lasso_model = LassoCV(alphas=[0.1, 1.0, 10.0], cv=5)\n",
    "\n",
    "lasso_model.fit(X_train, y_train)\n",
    "\n",
    "y_pred = lasso_model.predict(X_test)\n",
    "\n",
    "test_error = mean_squared_error(y_test, y_pred)\n",
    "\n",
    "print(\"Test Error (Mean Squared Error):\", test_error)\n",
    "\n",
    "non_zero_coef = np.sum(lasso_model.coef_ != 0)\n",
    "print(\"Number of non-zero coefficient estimates:\", non_zero_coef)\n",
    "# END SOLUTION"
   ]
  },
  {
   "cell_type": "code",
   "execution_count": null,
   "metadata": {},
   "outputs": [],
   "source": []
  }
 ],
 "metadata": {
  "colab": {
   "provenance": []
  },
  "kernelspec": {
   "display_name": "Python 3 (ipykernel)",
   "language": "python",
   "name": "python3"
  },
  "language_info": {
   "codemirror_mode": {
    "name": "ipython",
    "version": 3
   },
   "file_extension": ".py",
   "mimetype": "text/x-python",
   "name": "python",
   "nbconvert_exporter": "python",
   "pygments_lexer": "ipython3",
   "version": "3.11.6"
  }
 },
 "nbformat": 4,
 "nbformat_minor": 4
}
