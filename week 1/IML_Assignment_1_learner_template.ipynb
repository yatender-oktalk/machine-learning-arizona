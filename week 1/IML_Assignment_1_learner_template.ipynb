{
 "cells": [
  {
   "cell_type": "markdown",
   "metadata": {
    "id": "KwBUjzRqatDI"
   },
   "source": [
    "# Week1: Linear Models"
   ]
  },
  {
   "cell_type": "markdown",
   "metadata": {
    "id": "1nxgy-IFvwk_"
   },
   "source": [
    "# Objective\n",
    "\n",
    "This homework sheet will help reviewing the basic concepts associated with linear regression models. Please review the lectures, suggested readings, and additional resources __before__ getting started on the HW"
   ]
  },
  {
   "cell_type": "markdown",
   "metadata": {
    "id": "S5EcphcmoucW"
   },
   "source": [
    "**Some questions in this assignment will require you to conduct independent research beyond the material covered in the recorded content.**"
   ]
  },
  {
   "cell_type": "markdown",
   "metadata": {
    "id": "NXllJxhEG5um"
   },
   "source": [
    "**Questions**\n",
    "\n",
    "This homework is divided into two main parts. First, a conceptual component will review the basic concepts related to linear models. The second part of the homework is mostly intended to be a brief introduction to fitting and analyzing linear models in Python. Several of these questions are modified from James et al. (2021).\n"
   ]
  },
  {
   "cell_type": "markdown",
   "metadata": {
    "id": "qSgjVGynoheK"
   },
   "source": [
    "Marks Distribution"
   ]
  },
  {
   "cell_type": "markdown",
   "metadata": {
    "id": "Cc9vqC5goFlm"
   },
   "source": [
    "| Question      | Marks |\n",
    "| ----------- | ----------- |\n",
    "| 1     | 1      |\n",
    "| 2a    | 0.25     |\n",
    "| 2b    | 0.25      |\n",
    "| 2c    | 0.25      |\n",
    "| 2d     | 0.25      |\n",
    "| 3a     | 0.25     |\n",
    "| 3b    | 0.25     |\n",
    "| 3c     | 0.25     |\n",
    "| 3d    | 0.25   |\n",
    "| 4a.i    | 0.25      |\n",
    "| 4a.ii    | 0.25     |\n",
    "| 4a.iii     | 0.25      |\n",
    "| 4a.iv    | 0.50      |\n",
    "| 4a.v     | 0.25      |\n",
    "| 4a.vi    | 0.50      |\n",
    "| 4b    | 0.50     |\n",
    "| 4c    | 0.50      |\n",
    "| 5a     | 0.25      |\n",
    "| 5b    | 0.25      |\n",
    "| 5c.i    | 0.25      |\n",
    "| 5c.ii    | 0.25      |\n",
    "| 5c.iii    | 0.25      |\n",
    "| 5d    | 0.25      |\n",
    "| 5e    | 0.25      |\n",
    "| 5f    | 0.25     |\n",
    "| 6a    | 0.25      |\n",
    "| 6b    | 0.25      |\n",
    "| 6c    | 0.25      |\n",
    "| 6d     | 0.25      |\n",
    "| 6e    | 0.25      |\n",
    "| 6f    | 0.25      |\n",
    "| 6g     | 0.50      |\n",
    "| 6h    | 0.50      |\n",
    "| 6i     | 0.50      |\n",
    "| 6j     | 0.50      |\n",
    "| 7a    | 0.25      |\n",
    "| 7b    | 0.50      |\n",
    "| 7c    | 0.50      |\n",
    "| 7d     | 0.25      |\n",
    "| 7e    | 0.25      |\n",
    "| 7f    | 0.25      |\n",
    "| 7g     | 0.50      |\n",
    "| 8     | 1      |\n",
    "\n",
    "\n",
    "\n",
    "\n"
   ]
  },
  {
   "cell_type": "markdown",
   "metadata": {
    "id": "nq1ceoSTO0fj"
   },
   "source": [
    "The following website has access to the relevant datasets from the recommended textbook: https://book.huihoo.com/introduction-to-statistical-learning/data.html"
   ]
  },
  {
   "cell_type": "markdown",
   "metadata": {
    "id": "lV4D5rfCI5s-"
   },
   "source": [
    "# Conceptual"
   ]
  },
  {
   "cell_type": "markdown",
   "metadata": {
    "id": "reTaXTvxI-No"
   },
   "source": [
    "## Question 1"
   ]
  },
  {
   "cell_type": "markdown",
   "metadata": {
    "id": "MYjMPhy6JMCx"
   },
   "source": [
    "Describe the null hypotheses to which the _p_-values given in the table (see below). Explain what conclusions you can draw based on these p-values. Your explanation should be phrased in terms of sales, TV, radio, and newspaper, rather than in terms of the coefficients of the linear model.\n",
    "\n",
    "|  | Coefficient | Std. error | t-statistics | p-value |\n",
    "|---|:---:|:---:|:---:|:---:|\n",
    "| Intercept | 2.939 | 0.3119 | 9.42 | <0.0001 |\n",
    "| TV | 0.046 | 0.0014 | 32.81 | <0.0001 |\n",
    "| Radio | 0.189 | 0.0086 | 21.89 | <0.0001 |\n",
    "| Newspaper | -0.001 | 0.0059 | -0.18 | 0.8599 |"
   ]
  },
  {
   "cell_type": "markdown",
   "metadata": {
    "id": "5sjI1c1zCfWA"
   },
   "source": [
    "The null hypotheses is that: $H_{0} = β_{1} = β_{2} = β_{2} = 0\n",
    "\n",
    "for which each β correspond to the variable on the table (tv, radio and newspaper). As the first two p-value of each predictor is virtually cero we can conclude that those two variables are statistically significant. On the other hand, the p-value for newspaper is 0.8599, which is quite large. This provides weak evidence against the null hypothesis, and hence, we fail to reject it. This suggests that there is no significant relationship between sales and newspaper advertising.\n",
    "\n",
    "The null hypotheses for the p-values in the table correspond to the assumption that there is no significant relationship between sales and each of the advertising mediums: TV, radio, and newspaper.\n",
    "\n",
    "Based on the p-values given in the table:\n",
    "\n",
    "TV: The p-value for TV is less than 0.0001, which is significantly small. This provides strong evidence to reject the null hypothesis for TV. Hence, we can conclude that there is a significant positive relationship between sales and TV advertising.\n",
    "\n",
    "Radio: Similarly, the p-value for radio is also less than 0.0001, indicating strong evidence against the null hypothesis for radio. This suggests a significant positive relationship between sales and radio advertising.\n",
    "\n",
    "Newspaper: On the other hand, the p-value for newspaper is 0.8599, which is quite large. This provides weak evidence against the null hypothesis, and hence, we fail to reject it. This suggests that there is no significant relationship between sales and newspaper advertising.\n",
    "\n",
    "In conclusion, the sales appear to be significantly \n",
    "influenced by advertising on TV and radio, but not on newspaper.\n",
    "In conclusion, the sales appear to be significantly influenced by advertising on TV and radio, but not on newspaper.\n",
    "​\n",
    "  This conclusion is based on the p-values associated with each advertising medium in the given table."
   ]
  },
  {
   "cell_type": "markdown",
   "metadata": {
    "id": "kG9QBtcwJT0m"
   },
   "source": [
    "## Question 2\n",
    "\n",
    "Assume that you collected a dataset of 100 observations containing a single predictor and a quantitative response. Then, you decided to fit a\n",
    "\n",
    "(i) linear regression model to the data, as well as a separate\n",
    "\n",
    "(ii) cubic regression, i.e. $Y = β_{0} + β_{1}X^{1} + β_{2}X^{2} + β_{3}X^{3} + ϵ$"
   ]
  },
  {
   "cell_type": "markdown",
   "metadata": {
    "id": "wrgvCR72-228"
   },
   "source": [
    "### a) Suppose that the true relationship between $X$ and $Y$ is linear, i.e. $Y = β_{0} + β_{1}X + ϵ$. Consider the training residual sum of squares (_RSS_) for the linear regression, and also the training _RSS_ for the cubic regression. Would we expect one to be lower than the other, would we expect them to be the same, or is there not enough information to tell? Justify your answer"
   ]
  },
  {
   "cell_type": "markdown",
   "metadata": {
    "id": "ON8KGaRxPBo6"
   },
   "source": [
    "#### Linear Relationship\n",
    "Since the relationship between X and Y is linear then $Y = β_{0} + β_{1}X + ϵ$. should be correctly able to provide correct results.\n",
    "\n",
    "#### Reason \n",
    "As we know if we use the cubic regression model given as $Y = β_{0} + β_{1}X^{1} + β_{2}X^{2} + β_{3}X^{3} + ϵ$ will overfit the data as it's flexibility is higher and it'll introduce unnecessery complexity and would produce noise as we have 100 observations only and linear regression would get better trained compared to cubic as cubic model would required more training data compared to the linear model.\n",
    "\n",
    "#### Training RSS\n",
    "As a result of overfitting, the cubic regression model may fit the training data too closely, which will lead to a lower training RSS compared to the linear regression model. The cubic regression model could achieve a better fit to the training data set but it may not generalize well to new or unseen data.\n",
    "\n",
    "In summary, due to the higher complexity and potential overfitting associated with the cubic regression model $Y = β_{0} + β_{1}X^{1} + β_{2}X^{2} + β_{3}X^{3} + ϵ$ , we would expect the training RSS for the linear regression model to be lower than the training RSS for the cubic regression model for X and Y linear relationship."
   ]
  },
  {
   "cell_type": "markdown",
   "metadata": {
    "id": "0zoGQrMq_FgV"
   },
   "source": [
    "### b) Answer part (a) using the test _RSS_ rather than training _RSS_."
   ]
  },
  {
   "cell_type": "markdown",
   "metadata": {
    "id": "d0OrL6aDVMuB"
   },
   "source": [
    "#### Linear Relationship\n",
    "Since the relationship between X and Y is linear then $Y = β_{0} + β_{1}X + ϵ$. should be correctly able to provide correct results.\n",
    "The cubic regression model might capture unnecessary complexity that doesn't accurately represent the underlying structure of the data. This mismatch between the model complexity and the true relationship can lead to poor performance on test data.\n",
    "\n",
    "#### Overfitting\n",
    "The cubic regression model, with its higher complexity, has the capacity to fit the training data very closely, even capturing noise and random fluctuations. This overfitting phenomenon can lead to poor generalization to new, unseen data, such as the test data.\n",
    "\n",
    "#### Generalization to Test Data \n",
    "While the cubic regression model might perform very well on the training data (resulting in low training RSS), its performance on test data might not be good due to overfitting. The model might generalize poorly to new observations that do not adhere to the overfitted patterns captured in the training data.\n",
    "\n",
    "### Linear Regression's Advantage\n",
    "The linear regression model, being simpler and more aligned with the true linear relationship, is less prone to overfitting. It is better able to capture the underlying linear trend in the data and generalize well to new observations, resulting in better performance on test data.\n",
    "\n",
    "In summary, if the test data follows the true linear relationship, we would expect the linear regression model to have lower test RSS compared to the cubic regression model. This is because the linear regression model is more likely to generalize well to new, unseen data without overfitting."
   ]
  },
  {
   "cell_type": "markdown",
   "metadata": {
    "id": "vSG7umJ1_QfE"
   },
   "source": [
    "### c) Suppose that the true relationship between $X$ and $Y$ is not linear. However, we don’t know how far it is from linear. Consider the training _RSS_ for the linear regression, and also the training _RSS_ for the cubic regression. Would we expect one to be lower than the other, would we expect them to be the same, or is there not enough information to tell? Justify your answer."
   ]
  },
  {
   "cell_type": "markdown",
   "metadata": {
    "id": "1jf5d6eykmAY"
   },
   "source": [
    "\n",
    "- Since we do not know how far the true relationship is from being linear, we cannot confidently predict which model will perform better.\n",
    "- The cubic regression model is more flexible and can capture non-linear relationships better than the linear regression model. If the true relationship is non-linear, the cubic regression model has the potential to provide a better fit to the data and achieve a lower training RSS.The increased flexibility of the cubic regression model also comes with a higher risk of overfitting if actual relationship between X and Y is of lower complexity.\n",
    "\n",
    "Without the true relationship between X and Y and how far it is from being linear, it is difficult to predict whether the training RSS for the linear regression model will be lower than that of the cubic regression model. The outcome depends on the specific characteristics of the data and the true underlying relationship, as well as the trade-off between model complexity and generalization performance. Therefore, in this scenario, there is not enough information to confidently predict which model will perform better in terms of training RSS."
   ]
  },
  {
   "cell_type": "markdown",
   "metadata": {
    "id": "vKdj4Y1p_Xvj"
   },
   "source": [
    "### d) Answer (c) using test _RSS_ rather than training _RSS._"
   ]
  },
  {
   "cell_type": "markdown",
   "metadata": {
    "id": "h6XvaLtsk-m6"
   },
   "source": [
    "\n",
    "- If the true relationship is closer to being linear, then the linear regression model might perform better on test data. In this case, the cubic regression model might overfit the training data, capturing unnecessary complexity that does not generalize well to new observations.\n",
    "- If the true relationship is highly non-linear, the cubic regression model might perform better on test data.\n",
    "\n",
    "\n",
    "Without knowledge of the true relationship, it is difficult to predict with certainty how each model will perform on test data. However, there is a possibility that the linear regression model might perform better if the true relationship is closer to being linear.\n",
    "\n"
   ]
  },
  {
   "cell_type": "markdown",
   "metadata": {
    "id": "C-dtYVvqNGNp"
   },
   "source": [
    "## Question 3\n"
   ]
  },
  {
   "cell_type": "markdown",
   "metadata": {
    "id": "h3JVTowkC38E"
   },
   "source": [
    "### a) Discuss the implications that uncertainty in $X$ would have on parameter estimates based on linear regression models. Should we care about error in $X$ when fitting OLS regressions?\n",
    "\n"
   ]
  },
  {
   "cell_type": "markdown",
   "metadata": {
    "id": "Ysp0_kfWm1cr"
   },
   "source": [
    "Provide your answer in this Markdown cell"
   ]
  },
  {
   "cell_type": "markdown",
   "metadata": {
    "id": "491jxFmsmFSk"
   },
   "source": [
    "### b) Provide a brief discussion on the concept of regression dilution.\n",
    "\n",
    "\n"
   ]
  },
  {
   "cell_type": "markdown",
   "metadata": {
    "id": "Bx8RXegym6dk"
   },
   "source": [
    "Provide your answer in this Markdown cell"
   ]
  },
  {
   "cell_type": "markdown",
   "metadata": {
    "id": "MYmnWoLdmR9S"
   },
   "source": [
    "### c) Are there any linear regression models that account for uncertainty in $X$ and $Y$? Please do some independent research and cite your sources.\n"
   ]
  },
  {
   "cell_type": "markdown",
   "metadata": {
    "id": "9Y_vudMKm9Wc"
   },
   "source": [
    "Provide your answer in this Markdown cell"
   ]
  },
  {
   "cell_type": "markdown",
   "metadata": {
    "id": "no3U355mmUXR"
   },
   "source": [
    "### d) Distinguish between least squares and maximum likelihood in the context of linear regression models\n",
    "\n"
   ]
  },
  {
   "cell_type": "markdown",
   "metadata": {
    "id": "VcT5ozBrBzPv"
   },
   "source": [
    "Provide your answer in this Markdown cell"
   ]
  },
  {
   "cell_type": "markdown",
   "metadata": {
    "id": "CKr-0Jh6NTc0"
   },
   "source": [
    "# Applied\n",
    "\n",
    "Please note that some of the questions outlined below make suggestions on potential functions to be used in the answers. Feel free to use any other function. These are just a reference."
   ]
  },
  {
   "cell_type": "markdown",
   "metadata": {
    "id": "kzJVdAFaNnud"
   },
   "source": [
    "## Question 4\n",
    "\n",
    "This question involves the use of simple linear regression on the Auto data set.\n",
    "\n",
    "### a) Use the \" OLS() function \" from \" Statsmodels \" library to perform a simple linear regression with \" mpg \" as the response and \" horsepower\" as the predictor. Use the \"summary()\" function to print the results. Then, answer the questions below:\n",
    "\n",
    "Reference to Statsmodels library and ols :\n",
    "\n",
    "https://www.statsmodels.org/dev/generated/statsmodels.regression.linear_model.OLS.html#generated-statsmodels-regression-linear-model-ols--page-root\n"
   ]
  },
  {
   "cell_type": "code",
   "execution_count": null,
   "metadata": {
    "id": "J9RwSehBGGsL"
   },
   "outputs": [],
   "source": [
    "#IMPORT LIBRARIES"
   ]
  },
  {
   "cell_type": "code",
   "execution_count": null,
   "metadata": {
    "id": "mKNF22DJohY_"
   },
   "outputs": [],
   "source": [
    "#READ AUTO.CSV DATASET"
   ]
  },
  {
   "cell_type": "code",
   "execution_count": null,
   "metadata": {
    "id": "f_NadN9HGN4u"
   },
   "outputs": [],
   "source": [
    "#PERFORM PRE PROCESSING OF DATA IF REQUIRED ( OBSERVE THE DATASET AND ITS VALUES CAREFULLY)"
   ]
  },
  {
   "cell_type": "markdown",
   "metadata": {
    "id": "-LHDFLbzNuZI"
   },
   "source": [
    "### i. Is there a relationship between the predictor and the response?"
   ]
  },
  {
   "cell_type": "markdown",
   "metadata": {
    "id": "B5j39-etAQp9"
   },
   "source": [
    "Provide your answer in this Markdown cell"
   ]
  },
  {
   "cell_type": "markdown",
   "metadata": {
    "id": "9XoPITto91ov"
   },
   "source": [
    "### ii. How strong is the relationship between the predictor and the response? Focus on the _RSE_, estimated $R^2$, and _slope._\n",
    "\n"
   ]
  },
  {
   "cell_type": "markdown",
   "metadata": {
    "id": "gHwvbuZoAgqy"
   },
   "source": [
    "Provide your answer in this Markdown cell"
   ]
  },
  {
   "cell_type": "markdown",
   "metadata": {
    "id": "wQQwtLa_94f7"
   },
   "source": [
    "### iii. Is the relationship between the predictor and the response positive or negative?\n",
    "\n"
   ]
  },
  {
   "cell_type": "markdown",
   "metadata": {
    "id": "XYHLf3sKDY4H"
   },
   "source": [
    "Provide your answer in this Markdown cell"
   ]
  },
  {
   "cell_type": "markdown",
   "metadata": {
    "id": "wJR3r0tv96og"
   },
   "source": [
    "\n",
    "### iv. What is the predicted mpg associated with a __horsepower__ of __98__? What are the associated 95% confidence and prediction intervals?"
   ]
  },
  {
   "cell_type": "code",
   "execution_count": null,
   "metadata": {
    "id": "JaoWF8VNvu09"
   },
   "outputs": [],
   "source": [
    "# BEGIN SOLUTION\n",
    "\n",
    "# END SOLUTION"
   ]
  },
  {
   "cell_type": "markdown",
   "metadata": {
    "id": "h4ekrC9cuPR7"
   },
   "source": [
    "Provide your comments in this Markdown cell"
   ]
  },
  {
   "cell_type": "markdown",
   "metadata": {
    "id": "yUV84KfWOOUn"
   },
   "source": [
    "### V. **Now, please briefly explain the main use of inverse predictions. List at least two practical examples.**"
   ]
  },
  {
   "cell_type": "markdown",
   "metadata": {
    "id": "Xl06AMiPVtlH"
   },
   "source": [
    "Provide your comments in this Markdown cell\n",
    "\n"
   ]
  },
  {
   "cell_type": "markdown",
   "metadata": {
    "id": "ZdnvKnuCOVDL"
   },
   "source": [
    "### vi. use \" fsolve function from scipy \"  (or any function of your preference) to infer horsepower from the same mpg value predicted in (__iv__). Comment on your results.\n",
    "\n",
    "Link to fsolve from scipy library:\n",
    "\n",
    "https://docs.scipy.org/doc/scipy/reference/generated/scipy.optimize.fsolve.html\n",
    "\n",
    "\n"
   ]
  },
  {
   "cell_type": "code",
   "execution_count": null,
   "metadata": {
    "id": "4tTw_zB5vwLU"
   },
   "outputs": [],
   "source": [
    "# BEGIN SOLUTION\n",
    "\n",
    "\n",
    "\n",
    "# END SOLUTION"
   ]
  },
  {
   "cell_type": "markdown",
   "metadata": {
    "id": "L1cBkvfwPu5c"
   },
   "source": [
    "### b) Plot the response and the predictor. Use the `lmplot()` function from seaborn to display the least squares regression line.\n",
    "\n",
    "Link to lmplot() in seaborn:\n",
    "\n",
    "https://seaborn.pydata.org/archive/0.11/tutorial/regression.html#:~:text=(%22tips%22)-,Functions%20to%20draw%20linear%20regression%20models,much%20of%20their%20core%20functionality.\n"
   ]
  },
  {
   "cell_type": "code",
   "execution_count": null,
   "metadata": {
    "id": "693Bj7V6FKYm"
   },
   "outputs": [],
   "source": [
    "# BEGIN SOLUTION\n",
    "\n",
    "\n",
    "\n",
    "# END SOLUTION"
   ]
  },
  {
   "cell_type": "markdown",
   "metadata": {
    "id": "E5pnfbK2P2rZ"
   },
   "source": [
    "### c) Use the `plot_fit` function from statsmodels library to produce diagnostic plots of the least squares regression fit. Comment on any problems you see with the fit.\n",
    "\n",
    "Link to plot_fit:\n",
    "\n",
    "https://www.statsmodels.org/dev/generated/statsmodels.graphics.regressionplots.plot_fit.html\n"
   ]
  },
  {
   "cell_type": "code",
   "execution_count": null,
   "metadata": {
    "id": "t_eLZb4zvwB8"
   },
   "outputs": [],
   "source": [
    "# BEGIN SOLUTION\n",
    "\n",
    "\n",
    "\n",
    "# END SOLUTION"
   ]
  },
  {
   "cell_type": "markdown",
   "metadata": {
    "id": "Q4K_O3MXQO8k"
   },
   "source": [
    "## Question 5"
   ]
  },
  {
   "cell_type": "markdown",
   "metadata": {
    "id": "zVFgUgqvQO5c"
   },
   "source": [
    "This question involves the use of multiple linear regression on the Auto data set. Read the dataset first:"
   ]
  },
  {
   "cell_type": "markdown",
   "metadata": {
    "id": "14riKHBlQO2Y"
   },
   "source": [
    "### a) Produce a scatterplot matrix using pairplot() from seaborn library which includes all of the variables in the data set\n",
    "\n",
    "Link to pairplot:\n",
    "https://seaborn.pydata.org/generated/seaborn.pairplot.html"
   ]
  },
  {
   "cell_type": "code",
   "execution_count": null,
   "metadata": {
    "id": "si60l5NbSydN"
   },
   "outputs": [],
   "source": [
    "# BEGIN SOLUTION\n",
    "\n",
    "\n",
    "# END SOLUTION"
   ]
  },
  {
   "cell_type": "markdown",
   "metadata": {
    "id": "mN3BmhVSQOzI"
   },
   "source": [
    "### b) Compute the matrix of correlations between the variables using the function `corr()`in pandas on the dataframe also plot the corresponding correlation matrix using `heatmap ` function in seaborn\n",
    "\n",
    "Links:\n",
    "\n",
    "Corr() : https://pandas.pydata.org/docs/reference/api/pandas.DataFrame.corr.html\n",
    "\n",
    "Heatmap : https://seaborn.pydata.org/generated/seaborn.heatmap.html"
   ]
  },
  {
   "cell_type": "code",
   "execution_count": null,
   "metadata": {
    "id": "k9Dz3iArSzEg"
   },
   "outputs": [],
   "source": [
    "# BEGIN SOLUTION\n",
    "\n",
    "\n",
    "\n",
    "# END SOLUTION"
   ]
  },
  {
   "cell_type": "markdown",
   "metadata": {
    "id": "Rl7pMXcjdoc3"
   },
   "source": [
    "Provide your comments in this Markdown cell\n"
   ]
  },
  {
   "cell_type": "markdown",
   "metadata": {
    "id": "v6owhtblQOpw"
   },
   "source": [
    "### c) Use the `ols()`  function from statsmodels library to perform a multiple linear regression with mpg as the response and all other variables except name as the predictors. Use the `summary()` function from statsmodels to print the results. Use the questions below to comment on the output.\n",
    "\n",
    "Reference to Statsmodels library and ols :\n",
    "\n",
    "https://www.statsmodels.org/dev/generated/statsmodels.regression.linear_model.OLS.html#generated-statsmodels-regression-linear-model-ols--page-root\n",
    "\n",
    "Links to summary:\n",
    "\n",
    "https://www.statsmodels.org/devel/generated/statsmodels.regression.linear_model.OLSResults.summary.html"
   ]
  },
  {
   "cell_type": "code",
   "execution_count": null,
   "metadata": {
    "id": "zU4yxSFrRk3k"
   },
   "outputs": [],
   "source": [
    "# BEGIN SOLUTION\n",
    "\n",
    "\n",
    "# END SOLUTION"
   ]
  },
  {
   "cell_type": "markdown",
   "metadata": {
    "id": "FnsbAEOnhtZ3"
   },
   "source": [
    "#### i. Is there a significant association between the predictors and the response?"
   ]
  },
  {
   "cell_type": "markdown",
   "metadata": {
    "id": "vWXPB1kHmG2G"
   },
   "source": [
    "Provide your answer in this Markdown cell"
   ]
  },
  {
   "cell_type": "markdown",
   "metadata": {
    "id": "fASxN8qph0_9"
   },
   "source": [
    "#### ii. Which predictors appear to have a statistically significant relationship to the response?"
   ]
  },
  {
   "cell_type": "markdown",
   "metadata": {
    "id": "QYQ2vFxfmdWw"
   },
   "source": [
    "Provide your answer in this Markdown cell"
   ]
  },
  {
   "cell_type": "markdown",
   "metadata": {
    "id": "j-fWGGh_h4kY"
   },
   "source": [
    "#### iii. What does the coefficient for the year variable suggest?"
   ]
  },
  {
   "cell_type": "markdown",
   "metadata": {
    "id": "HFElrGT-mm3i"
   },
   "source": [
    "Provide your answer in this Markdown cell"
   ]
  },
  {
   "cell_type": "markdown",
   "metadata": {
    "id": "dgFH0l0qSAjH"
   },
   "source": [
    "### d) Use the `plot_fit ()` function from statsmodels to produce diagnostic plots of the linear regression fit. Again, feel free to use any other package or function to create these plots. Comment on any problems you see with the fit. Do the residual plots suggest any unusually large outliers? Does the leverage plot identify any observations with unusually high leverage?\n",
    "\n",
    "Link to plot_fit:\n",
    "\n",
    "https://www.statsmodels.org/dev/generated/statsmodels.graphics.regressionplots.plot_fit.html\n",
    "\n",
    "Link to residual plots:\n",
    "\n",
    "https://www.statsmodels.org/dev/generated/statsmodels.graphics.regressionplots.plot_leverage_resid2.html\n"
   ]
  },
  {
   "cell_type": "code",
   "execution_count": null,
   "metadata": {
    "id": "uPKaK58sD62C"
   },
   "outputs": [],
   "source": [
    "#using plot_fit()"
   ]
  },
  {
   "cell_type": "code",
   "execution_count": null,
   "metadata": {
    "id": "cIz0AOO0S0se"
   },
   "outputs": [],
   "source": [
    "# BEGIN SOLUTION\n",
    "\n",
    "\n",
    "\n",
    "# END SOLUTION"
   ]
  },
  {
   "cell_type": "code",
   "execution_count": null,
   "metadata": {
    "id": "4Y4I7vWhD9ps"
   },
   "outputs": [],
   "source": [
    "#using plot_leverage_resid2"
   ]
  },
  {
   "cell_type": "code",
   "execution_count": null,
   "metadata": {
    "id": "KpjLLptID55b"
   },
   "outputs": [],
   "source": [
    "# BEGIN SOLUTION\n",
    "\n",
    "\n",
    "\n",
    "# END SOLUTION"
   ]
  },
  {
   "cell_type": "markdown",
   "metadata": {
    "id": "mARgbNZh9sqT"
   },
   "source": [
    "Provide your comments in this Markdown cell\n",
    "\n"
   ]
  },
  {
   "cell_type": "markdown",
   "metadata": {
    "id": "b8Cl0CmgSfBS"
   },
   "source": [
    "### e) Fit a linear regression model with interaction effects. explore a few different models (~3–4 models). Do any interactions appear to be statistically significant in any of the models you examined?\n",
    "\n",
    "Use formula.ols to check the interaction between two predictors as used in the below reference link\n",
    "\n",
    "https://www.statsmodels.org/devel/example_formulas.html"
   ]
  },
  {
   "cell_type": "code",
   "execution_count": null,
   "metadata": {
    "id": "tpx70_ABS1Ud"
   },
   "outputs": [],
   "source": [
    "# BEGIN SOLUTION\n",
    "\n",
    "\n",
    "\n",
    "# END SOLUTION"
   ]
  },
  {
   "cell_type": "markdown",
   "metadata": {
    "id": "G7KY6CSQSrBM"
   },
   "source": [
    "### f) Try a few different transformations of the variables, such as `log(X)`, `sqrt(X)`, $X^2$. Comment on your findings.\n"
   ]
  },
  {
   "cell_type": "code",
   "execution_count": null,
   "metadata": {
    "id": "r0XJJsl6RxLM"
   },
   "outputs": [],
   "source": [
    "# BEGIN SOLUTION\n",
    "\n",
    "\n",
    "\n",
    "# END SOLUTION"
   ]
  },
  {
   "cell_type": "markdown",
   "metadata": {
    "id": "lCs6iRW1VB8d"
   },
   "source": [
    "## Question 6"
   ]
  },
  {
   "cell_type": "markdown",
   "metadata": {
    "id": "19WmlL1GVKBd"
   },
   "source": [
    "In this exercise you will create some simulated data and will fit simple linear regression models to it. Make sure to use `set.seed(1)` prior to starting part (a) to ensure consistent results.\n"
   ]
  },
  {
   "cell_type": "markdown",
   "metadata": {
    "id": "mpCg8ONtVSLc"
   },
   "source": [
    "### a) Using the random normal function, create a vector, `x`, containing 100 observations drawn from a $N(0, 1)$ distribution. This represents a feature, `X`.\n",
    "\n",
    "Link to random normal function:\n",
    "https://numpy.org/doc/stable/reference/random/generated/numpy.random.normal.html\n"
   ]
  },
  {
   "cell_type": "code",
   "execution_count": null,
   "metadata": {
    "id": "oA82IbiGVVHB"
   },
   "outputs": [],
   "source": [
    "# BEGIN SOLUTION\n",
    "\n",
    "\n",
    "# END SOLUTION"
   ]
  },
  {
   "cell_type": "markdown",
   "metadata": {
    "id": "NSVoFeX-VYnN"
   },
   "source": [
    "### b) Using the `random normal` function, create a vector, `eps`, containing 100 observations drawn from a $N(0, 0.25)$ distribution — a normal distribution with mean zero and variance `0.25`.\n",
    "\n",
    "Link to random normal function:\n",
    "https://numpy.org/doc/stable/reference/random/generated/numpy.random.normal.html\n"
   ]
  },
  {
   "cell_type": "code",
   "execution_count": null,
   "metadata": {
    "id": "XKWeOeFfVZFF"
   },
   "outputs": [],
   "source": [
    "# BEGIN SOLUTION\n",
    "\n",
    "\n",
    "# END SOLUTION"
   ]
  },
  {
   "cell_type": "markdown",
   "metadata": {
    "id": "c1YPxExmVZtD"
   },
   "source": [
    "### c) Using `x` and `eps`, generate a vector `y` according to the model $Y = -1 + 0.5X + ϵ$. What is the length of the vector `y`? What are the values of $β_0$ and $β_1$ in this linear model?"
   ]
  },
  {
   "cell_type": "code",
   "execution_count": null,
   "metadata": {
    "id": "-mmg6j4lVfYi"
   },
   "outputs": [],
   "source": [
    "# BEGIN SOLUTION\n",
    "\n",
    "\n",
    "# END SOLUTION"
   ]
  },
  {
   "cell_type": "markdown",
   "metadata": {
    "id": "j35VsRH93ZjK"
   },
   "source": [
    "Provide you comments / answer here"
   ]
  },
  {
   "cell_type": "markdown",
   "metadata": {
    "id": "09fMLyQpVgL8"
   },
   "source": [
    "### d) Create a scatterplot displaying the relationship between `x` and `y`. Comment on what you observe."
   ]
  },
  {
   "cell_type": "code",
   "execution_count": null,
   "metadata": {
    "id": "KXLQkopTVljb"
   },
   "outputs": [],
   "source": [
    "# BEGIN SOLUTION\n",
    "\n",
    "\n",
    "\n",
    "# END SOLUTION"
   ]
  },
  {
   "cell_type": "markdown",
   "metadata": {
    "id": "wP9aKezLwqGf"
   },
   "source": [
    "Provide you comments / answer here"
   ]
  },
  {
   "cell_type": "markdown",
   "metadata": {
    "id": "CZv3N4Z3Vo3m"
   },
   "source": [
    "### e) Fit a least squares linear model that relates y and `x`. Comment on the model obtained. How do the estimated coefficients (slope and intercept) compare to the true values used to simulate the data?\n"
   ]
  },
  {
   "cell_type": "code",
   "execution_count": null,
   "metadata": {
    "id": "WsQ25tYRVoYT"
   },
   "outputs": [],
   "source": [
    "# BEGIN SOLUTION\n",
    "\n",
    "\n",
    "# END SOLUTION"
   ]
  },
  {
   "cell_type": "markdown",
   "metadata": {
    "id": "lXHmH6uIw14Z"
   },
   "source": [
    "Provide you comments / answer here"
   ]
  },
  {
   "cell_type": "markdown",
   "metadata": {
    "id": "o7UrVudbVsxs"
   },
   "source": [
    "### f) Display the least squares line on the scatterplot obtained in (d). Draw the estimated regression line on the plot, in a different color.  Feel free to use  any framework such as ggplot or matplotlib, seaborn etc\n"
   ]
  },
  {
   "cell_type": "code",
   "execution_count": null,
   "metadata": {
    "id": "EMq8NQjbVtOZ"
   },
   "outputs": [],
   "source": [
    "# BEGIN SOLUTION\n",
    "\n",
    "# END SOLUTION\n"
   ]
  },
  {
   "cell_type": "markdown",
   "metadata": {
    "id": "rSbpcUa2Enez"
   },
   "source": [
    "Provide you comments / answer here"
   ]
  },
  {
   "cell_type": "markdown",
   "metadata": {
    "id": "YIkO1OYwVwlO"
   },
   "source": [
    "### g) Now fit a polynomial regression model that predicts $y$ using $x$ and $x^2$. Is there evidence that the quadratic term improves the model fit? Explain your answer."
   ]
  },
  {
   "cell_type": "code",
   "execution_count": null,
   "metadata": {
    "id": "9fYB12U1VxAu"
   },
   "outputs": [],
   "source": [
    "# BEGIN SOLUTION\n",
    "\n",
    "\n",
    "\n",
    "# END SOLUTION"
   ]
  },
  {
   "cell_type": "markdown",
   "metadata": {
    "id": "M_l2y37UYVJB"
   },
   "source": [
    "Provide you comments / answer here"
   ]
  },
  {
   "cell_type": "markdown",
   "metadata": {
    "id": "sijYBY3BX6WC"
   },
   "source": [
    "### h) Repeat (a)–(f) after modifying the data generation process in such a way that there is less noise in the data. The model analyzed in this section,, should remain the same. You can do this by decreasing the variance of the normal distribution used to generate the error term ϵ in (b). Describe your results."
   ]
  },
  {
   "cell_type": "code",
   "execution_count": null,
   "metadata": {
    "id": "48qLZi7pX7CU"
   },
   "outputs": [],
   "source": [
    "# BEGIN SOLUTION\n",
    "\n",
    "\n",
    "# END SOLUTION"
   ]
  },
  {
   "cell_type": "markdown",
   "metadata": {
    "id": "7PFX3UChx2To"
   },
   "source": [
    "Provide you comments / answer here"
   ]
  },
  {
   "cell_type": "markdown",
   "metadata": {
    "id": "oH_EojyOYCrI"
   },
   "source": [
    "### i) Repeat (a)–(f) after modifying the data generation process in such a way that there is more noise in the data. The model analyzed in this section ($Y = -1 + 0.5X + ϵ$) should remain the same. You can do this by increasing the variance of the normal distribution used to generate the error term $ϵ$ in (b). Describe your results.\n"
   ]
  },
  {
   "cell_type": "code",
   "execution_count": null,
   "metadata": {
    "id": "TTL88gx5YDln"
   },
   "outputs": [],
   "source": [
    "# BEGIN SOLUTION\n",
    "\n",
    "\n",
    "# END SOLUTION"
   ]
  },
  {
   "cell_type": "markdown",
   "metadata": {
    "id": "lSMlTcaG1xs9"
   },
   "source": [
    "Provide you comments / answer here"
   ]
  },
  {
   "cell_type": "markdown",
   "metadata": {
    "id": "C_HPw1yOYOXg"
   },
   "source": [
    "### j) What are the confidence intervals for $β_0$ and $β_1$ based on the original data set, the noisier data set, and the less noisy data set? Comment on your results.\n"
   ]
  },
  {
   "cell_type": "code",
   "execution_count": null,
   "metadata": {
    "id": "IF7NS3xLYKP0"
   },
   "outputs": [],
   "source": [
    "# BEGIN SOLUTION\n",
    "\n",
    "\n",
    "\n",
    "# END SOLUTION"
   ]
  },
  {
   "cell_type": "markdown",
   "metadata": {
    "id": "0q8lc5-G0ARe"
   },
   "source": [
    "Provide you comments / answer here"
   ]
  },
  {
   "cell_type": "markdown",
   "metadata": {
    "id": "tORKYjHNZXMO"
   },
   "source": [
    "## Question 7"
   ]
  },
  {
   "cell_type": "markdown",
   "metadata": {
    "id": "veO9jn-3ZYzF"
   },
   "source": [
    "This question focuses on the collinearity problem"
   ]
  },
  {
   "cell_type": "markdown",
   "metadata": {
    "id": "3btN-uW8ZgX4"
   },
   "source": [
    "## (a) Perform the following commands in `Python`"
   ]
  },
  {
   "cell_type": "code",
   "execution_count": null,
   "metadata": {
    "id": "cAEgt5lwpRi7"
   },
   "outputs": [],
   "source": [
    "import numpy as np\n",
    "\n",
    "np.random.seed(1)\n",
    "\n",
    "x1 = np.random.uniform(size=100)\n",
    "\n",
    "x2 = 0.5 * x1 + np.random.normal(size=100) / 10\n",
    "\n",
    "y = 2 + 2 * x1 + 0.3 * x2 + np.random.normal(size=100)"
   ]
  },
  {
   "cell_type": "markdown",
   "metadata": {
    "id": "40fAQSpsZnrx"
   },
   "source": [
    "The last line corresponds to creating a linear model in which $y$ is a function of $x_1$ and $x_2$. Write out the form of the linear model. What are the regression coefficients?"
   ]
  },
  {
   "cell_type": "markdown",
   "metadata": {
    "id": "xxXg-9ML0nI_"
   },
   "source": [
    "Provide you comments / answer here\n",
    "\n"
   ]
  },
  {
   "cell_type": "markdown",
   "metadata": {
    "id": "9bQ1z3HQaHws"
   },
   "source": [
    "## (b) What is the correlation between $x_1$ and $x_2$? Create a scatterplot displaying the relationship between the variables.\n",
    "\n",
    "\n",
    "link to correlation function: https://numpy.org/doc/stable/reference/generated/numpy.corrcoef.html"
   ]
  },
  {
   "cell_type": "code",
   "execution_count": null,
   "metadata": {
    "id": "yene59lGE_uk"
   },
   "outputs": [],
   "source": [
    "# BEGIN SOLUTION\n",
    "\n",
    "# END SOLUTION"
   ]
  },
  {
   "cell_type": "markdown",
   "metadata": {
    "id": "cnrvMbL8aM4Y"
   },
   "source": [
    "## (c) Using this data, fit a least squares regression to predict $y$ using $x_1$ and $x_2$. Describe the results obtained. What are $β_0$, $β_1$, and $β_2$? How do these relate to the true $β_0$, $β_1$, and $β_2$? Can you reject the null hypothesis $H_0$: $β_1$ = 0? How about the null hypothesis $H_0$: $β_2$ = 0?\n"
   ]
  },
  {
   "cell_type": "code",
   "execution_count": null,
   "metadata": {
    "id": "78QRRT3LaNaE"
   },
   "outputs": [],
   "source": [
    "# BEGIN SOLUTION\n",
    "\n",
    "\n",
    "\n",
    "# END SOLUTION"
   ]
  },
  {
   "cell_type": "markdown",
   "metadata": {
    "id": "ytfpsq5t2Yfo"
   },
   "source": [
    "Provide you comments / answer here"
   ]
  },
  {
   "cell_type": "code",
   "execution_count": null,
   "metadata": {
    "id": "o1Xl_ARSa1PU"
   },
   "outputs": [],
   "source": []
  },
  {
   "cell_type": "markdown",
   "metadata": {
    "id": "lAV5k3LVa4K-"
   },
   "source": [
    "## (d) Now fit a least squares regression to predict $y$ using only $x_1$. Comment on your results. Can you reject the null hypothesis $H_0$: $β_1$ = 0?"
   ]
  },
  {
   "cell_type": "code",
   "execution_count": null,
   "metadata": {
    "id": "AflqHdEZa4jp"
   },
   "outputs": [],
   "source": [
    "# BEGIN SOLUTION\n",
    "\n",
    "\n",
    "\n",
    "# END SOLUTION"
   ]
  },
  {
   "cell_type": "markdown",
   "metadata": {
    "id": "pMvb2RMN7qMb"
   },
   "source": [
    "Provide you comments / answer here"
   ]
  },
  {
   "cell_type": "markdown",
   "metadata": {
    "id": "9xN1poEBa-tz"
   },
   "source": [
    "## (e) Now fit a least squares regression to predict $y$ using only $x_2$. Comment on your results. Can you reject the null hypothesis $H_0$: $β_1$ = 0?"
   ]
  },
  {
   "cell_type": "code",
   "execution_count": null,
   "metadata": {
    "id": "RM2DkT7BAAJ-"
   },
   "outputs": [],
   "source": [
    "# BEGIN SOLUTION\n",
    "\n",
    "# END SOLUTION"
   ]
  },
  {
   "cell_type": "markdown",
   "metadata": {
    "id": "TxyMFY8i79yn"
   },
   "source": [
    "Provide you comments / answer here"
   ]
  },
  {
   "cell_type": "markdown",
   "metadata": {
    "id": "bEwCsDNZbQwl"
   },
   "source": [
    "## (f) Do the results obtained in (c)–(e) contradict each other? Explain your answer.\n"
   ]
  },
  {
   "cell_type": "markdown",
   "metadata": {
    "id": "w-r1KpSxAW3U"
   },
   "source": [
    "Provide you comments / answer here"
   ]
  },
  {
   "cell_type": "markdown",
   "metadata": {
    "id": "SrN4aQAUbWo9"
   },
   "source": [
    "## (g) Now suppose we obtain one additional observation, which was unfortunately mismeasured. Re-fit the linear models from (c) to (e) using this new data. What effect does this new observation have on each of the models? In each model, is this observation an outlier? A high-leverage point? Both? Explain your answers."
   ]
  },
  {
   "cell_type": "code",
   "execution_count": null,
   "metadata": {
    "id": "p--isc4nFf6z"
   },
   "outputs": [],
   "source": [
    "# BEGIN SOLUTION\n",
    "\n",
    "# END SOLUTION"
   ]
  },
  {
   "cell_type": "markdown",
   "metadata": {
    "id": "X8umRpwBFj0Z"
   },
   "source": [
    "Provide you comments / answer here"
   ]
  },
  {
   "cell_type": "markdown",
   "metadata": {
    "id": "x-DIitj2b7Gw"
   },
   "source": [
    "## Question 8"
   ]
  },
  {
   "cell_type": "markdown",
   "metadata": {
    "id": "WsDi2743cCPO"
   },
   "source": [
    "It is claimed that in the case of simple linear regression of $Y$ onto $X$, the $R^2$ statistic is equal to the square of the correlation between $X$ and $Y$. Generate some synthetic data and show that this is the case.\n",
    "\n",
    "link to  correlation function:\n",
    "https://numpy.org/doc/stable/reference/generated/numpy.corrcoef.html"
   ]
  },
  {
   "cell_type": "code",
   "execution_count": null,
   "metadata": {
    "id": "xMhlBt3NFnhj"
   },
   "outputs": [],
   "source": [
    "# BEGIN SOLUTION\n",
    "\n",
    "# END SOLUTION"
   ]
  }
 ],
 "metadata": {
  "colab": {
   "provenance": []
  },
  "kernelspec": {
   "display_name": "Python 3 (ipykernel)",
   "language": "python",
   "name": "python3"
  },
  "language_info": {
   "codemirror_mode": {
    "name": "ipython",
    "version": 3
   },
   "file_extension": ".py",
   "mimetype": "text/x-python",
   "name": "python",
   "nbconvert_exporter": "python",
   "pygments_lexer": "ipython3",
   "version": "3.9.6"
  }
 },
 "nbformat": 4,
 "nbformat_minor": 1
}
